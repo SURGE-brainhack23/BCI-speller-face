{
 "cells": [
  {
   "cell_type": "code",
   "execution_count": 5,
   "metadata": {},
   "outputs": [],
   "source": [
    "import os\n",
    "from glob import glob\n",
    "from PIL import Image\n",
    "from itertools import permutations \n",
    "import numpy as np"
   ]
  },
  {
   "cell_type": "markdown",
   "metadata": {},
   "source": [
    "## Paths"
   ]
  },
  {
   "cell_type": "code",
   "execution_count": 6,
   "metadata": {},
   "outputs": [],
   "source": [
    "image_path = './'\n",
    "source_path = image_path + '_indiv_faces/'\n",
    "in_dirs = glob(source_path + '*' )\n",
    "\n",
    "img_categories = [i.split('/') [-1] for i in in_dirs]\n",
    "\n",
    "out_dirs = []\n",
    "for i in img_categories:\n",
    "    img_dir = image_path + i\n",
    "    out_dirs.append(img_dir)\n",
    "    if not os.path.exists(img_dir):\n",
    "        os.mkdir(img_dir)    "
   ]
  },
  {
   "cell_type": "markdown",
   "metadata": {},
   "source": [
    "## Image dimensions and math"
   ]
  },
  {
   "cell_type": "code",
   "execution_count": 7,
   "metadata": {},
   "outputs": [],
   "source": [
    "n_steps = 6  # hard-coded; number of characters in each row & column of square matrix_img\n",
    "mask_fraction = .8 # proportion of area around target covered by mask\n",
    "\n",
    "matrix_img = Image.open(image_path + 'letter_grid_6x6.png')\n",
    "matrix_size = (min(matrix_img.size), min(matrix_img.size)) # size of speller character matrix image, in pixels\n",
    "img_format = matrix_img.format\n",
    "\n",
    "matrix_ctr = (matrix_size[0] // 2, matrix_size[1] // 2)\n",
    "locs = np.arange(min(matrix_size) / n_steps / 2, min(matrix_size), min(matrix_size) / n_steps).astype(int)\n",
    "mask_size = round(mask_fraction * locs[1] - locs[0])\n"
   ]
  },
  {
   "cell_type": "markdown",
   "metadata": {},
   "source": [
    "## Loop over each image in folder, creating row & column"
   ]
  },
  {
   "cell_type": "code",
   "execution_count": 8,
   "metadata": {},
   "outputs": [],
   "source": [
    "for idx, i in enumerate(img_categories):\n",
    "    in_files = glob(in_dirs[idx] + '/*.png')\n",
    "    out_dir = out_dirs[idx]\n",
    "    for in_img in in_files:\n",
    "        tile_img = Image.open(in_img)\n",
    "        tile_img = tile_img.resize((mask_size, mask_size))\n",
    "        tile_size = tile_img.size\n",
    "\n",
    "        row_img = Image.new(tile_img.mode, \n",
    "                            (matrix_size[0], tile_size[1])\n",
    "                            )\n",
    "        for loc in locs:\n",
    "            tl_corner = (loc - round(tile_size[0] / 2), 0)\n",
    "            # print(tl_corner)\n",
    "            row_img.paste(tile_img, box=tl_corner)\n",
    "        out_fname = 'face' + os.path.splitext(in_img)[0].split('/')[-1][2:] + '_row.' + img_format\n",
    "        row_img.save(out_dir + '/' + out_fname)\n",
    "\n",
    "        col_img = Image.new(tile_img.mode, \n",
    "                            (tile_size[0], matrix_size[1])\n",
    "                            )\n",
    "        for loc in locs:\n",
    "            tl_corner = (0, loc - round(tile_size[0] / 2))\n",
    "            col_img.paste(tile_img, box=tl_corner)\n",
    "        out_fname = 'face' + os.path.splitext(in_img)[0].split('/')[-1][2:] + '_col.' + img_format\n",
    "        col_img.save(out_dir + '/' + out_fname)            "
   ]
  },
  {
   "cell_type": "code",
   "execution_count": null,
   "metadata": {},
   "outputs": [],
   "source": []
  }
 ],
 "metadata": {
  "kernelspec": {
   "display_name": "Python 3.10.6 ('eeg')",
   "language": "python",
   "name": "python3"
  },
  "language_info": {
   "codemirror_mode": {
    "name": "ipython",
    "version": 3
   },
   "file_extension": ".py",
   "mimetype": "text/x-python",
   "name": "python",
   "nbconvert_exporter": "python",
   "pygments_lexer": "ipython3",
   "version": "3.10.6"
  },
  "orig_nbformat": 4,
  "vscode": {
   "interpreter": {
    "hash": "a8ee0125304c48a7dae18728506102a5d66693cc245d7232811a78e6cb7f32b3"
   }
  }
 },
 "nbformat": 4,
 "nbformat_minor": 2
}
